{
 "cells": [
  {
   "cell_type": "code",
   "execution_count": 1,
   "metadata": {},
   "outputs": [],
   "source": [
    "from statistics import mean\n",
    "from sklearn.model_selection import StratifiedKFold, train_test_split\n",
    "from sklearn.metrics import f1_score\n",
    "from sklearn.model_selection import train_test_split\n",
    "from sklearn.datasets import make_moons\n",
    "from sklearn.neural_network import MLPClassifier\n",
    "from sklearn.neighbors import KNeighborsClassifier\n",
    "from sklearn.svm import SVC\n",
    "from sklearn.gaussian_process import GaussianProcessClassifier\n",
    "from sklearn.gaussian_process.kernels import RBF\n",
    "from sklearn.tree import DecisionTreeClassifier\n",
    "from sklearn.ensemble import RandomForestClassifier, AdaBoostClassifier\n",
    "from sklearn.naive_bayes import GaussianNB\n",
    "from sklearn.discriminant_analysis import QuadraticDiscriminantAnalysis\n",
    "import numpy as np"
   ]
  },
  {
   "cell_type": "code",
   "execution_count": 3,
   "metadata": {},
   "outputs": [],
   "source": [
    "x = np.random.rand(5000, 20)\n",
    "y = np.random.randint(0, 2, 5000)\n",
    "\n",
    "# Split between train set and ensamble validation\n",
    "x_train, x_val, y_train, y_val = train_test_split(x, y, test_size=0.33, random_state=42, shuffle=True, stratify=y)\n",
    "\n",
    "# Create StratifiedKFold object.\n",
    "skf = StratifiedKFold(n_splits=5, shuffle=True, random_state=42)"
   ]
  },
  {
   "cell_type": "code",
   "execution_count": 4,
   "metadata": {},
   "outputs": [
    {
     "name": "stdout",
     "output_type": "stream",
     "text": [
      "<class 'sklearn.neighbors._classification.KNeighborsClassifier'>\n",
      "Fold 0...\n",
      "Fold 1...\n",
      "Fold 2...\n",
      "Fold 3...\n",
      "Fold 4...\n",
      "<class 'sklearn.svm._classes.SVC'>\n",
      "Fold 0...\n",
      "Fold 1...\n",
      "Fold 2...\n",
      "Fold 3...\n",
      "Fold 4...\n",
      "<class 'sklearn.svm._classes.SVC'>\n",
      "Fold 0...\n",
      "Fold 1...\n",
      "Fold 2...\n",
      "Fold 3...\n",
      "Fold 4...\n",
      "<class 'sklearn.gaussian_process._gpc.GaussianProcessClassifier'>\n",
      "Fold 0...\n",
      "Fold 1...\n",
      "Fold 2...\n",
      "Fold 3...\n",
      "Fold 4...\n"
     ]
    },
    {
     "name": "stderr",
     "output_type": "stream",
     "text": [
      "/home/albezjelt/.local/lib/python3.8/site-packages/sklearn/gaussian_process/kernels.py:411: ConvergenceWarning: The optimal value found for dimension 0 of parameter k2__length_scale is close to the specified upper bound 100000.0. Increasing the bound and calling fit again may find a better value.\n",
      "  warnings.warn(\"The optimal value found for \"\n"
     ]
    },
    {
     "name": "stdout",
     "output_type": "stream",
     "text": [
      "<class 'sklearn.tree._classes.DecisionTreeClassifier'>\n",
      "Fold 0...\n",
      "Fold 1...\n",
      "Fold 2...\n",
      "Fold 3...\n",
      "Fold 4...\n",
      "<class 'sklearn.ensemble._forest.RandomForestClassifier'>\n",
      "Fold 0...\n",
      "Fold 1...\n",
      "Fold 2...\n",
      "Fold 3...\n",
      "Fold 4...\n",
      "<class 'sklearn.neural_network._multilayer_perceptron.MLPClassifier'>\n",
      "Fold 0...\n",
      "Fold 1...\n",
      "Fold 2...\n",
      "Fold 3...\n",
      "Fold 4...\n",
      "<class 'sklearn.ensemble._weight_boosting.AdaBoostClassifier'>\n",
      "Fold 0...\n",
      "Fold 1...\n",
      "Fold 2...\n",
      "Fold 3...\n",
      "Fold 4...\n",
      "<class 'sklearn.naive_bayes.GaussianNB'>\n",
      "Fold 0...\n",
      "Fold 1...\n",
      "Fold 2...\n",
      "Fold 3...\n",
      "Fold 4...\n",
      "<class 'sklearn.discriminant_analysis.QuadraticDiscriminantAnalysis'>\n",
      "Fold 0...\n",
      "Fold 1...\n",
      "Fold 2...\n",
      "Fold 3...\n",
      "Fold 4...\n"
     ]
    }
   ],
   "source": [
    "# Create some simple classifier\n",
    "classifiers = [\n",
    "    KNeighborsClassifier(3),\n",
    "    SVC(kernel=\"linear\", C=0.025, probability=True),\n",
    "    SVC(gamma=2, C=1, probability=True),\n",
    "    GaussianProcessClassifier(1.0 * RBF(1.0)),\n",
    "    DecisionTreeClassifier(max_depth=5),\n",
    "    RandomForestClassifier(max_depth=5, n_estimators=10, max_features=1),\n",
    "    MLPClassifier(alpha=1, max_iter=1000),\n",
    "    AdaBoostClassifier(),\n",
    "    GaussianNB(),\n",
    "    QuadraticDiscriminantAnalysis()]\n",
    "\n",
    "f1_scores = []\n",
    "trained_classifiers = []\n",
    "for classifier in classifiers:\n",
    "    print(classifier.__class__)\n",
    "    tmp_f1s = []\n",
    "    for index, (train_index, test_index) in enumerate(skf.split(x_train, y_train)):\n",
    "        print(f\"Fold {index}...\")\n",
    "        x_train_fold, x_test_fold = x_train[train_index], x_train[test_index]\n",
    "        y_train_fold, y_test_fold = y_train[train_index], y_train[test_index]\n",
    "        classifier.fit(x_train_fold, y_train_fold)\n",
    "        y_predicted = classifier.predict(x_test_fold)\n",
    "        tmp_f1s.append(f1_score(y_test_fold, y_predicted))\n",
    "    classifier.fit(x_train, y_train)\n",
    "    trained_classifiers.append(classifier)\n",
    "    f1_scores.append(mean(tmp_f1s))"
   ]
  },
  {
   "cell_type": "code",
   "execution_count": 5,
   "metadata": {},
   "outputs": [],
   "source": [
    "import pickle\n",
    "\n",
    "pickle.dump(trained_classifiers, open('data/classifiers.p', 'wb'))\n",
    "pickle.dump(f1_scores, open('data/f1_scores.p', 'wb'))\n",
    "pickle.dump((x_val, y_val), open('data/val.p', 'wb'))"
   ]
  }
 ],
 "metadata": {
  "interpreter": {
   "hash": "31f2aee4e71d21fbe5cf8b01ff0e069b9275f58929596ceb00d14d90e3e16cd6"
  },
  "jupytext": {
   "cell_metadata_filter": "-all",
   "main_language": "python",
   "notebook_metadata_filter": "-all"
  },
  "kernelspec": {
   "display_name": "Python 3.8.10 64-bit",
   "name": "python3"
  },
  "language_info": {
   "name": "python",
   "version": ""
  }
 },
 "nbformat": 4,
 "nbformat_minor": 5
}