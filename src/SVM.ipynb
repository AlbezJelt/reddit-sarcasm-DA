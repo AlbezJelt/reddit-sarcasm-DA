{
 "cells": [
  {
   "cell_type": "code",
   "execution_count": null,
   "source": [
    "import pandas as pd\n",
    "from sklearn.model_selection import train_test_split, StratifiedKFold\n",
    "from statistics import mean\n",
    "from sklearn.metrics import f1_score\n",
    "from thundersvm import SVC\n",
    "from skopt.space import Real, Integer\n",
    "from skopt import BayesSearchCV"
   ],
   "outputs": [],
   "metadata": {}
  },
  {
   "cell_type": "code",
   "execution_count": null,
   "source": [
    "train = pd.read_csv(\n",
    "    '../data/preprocessed_data.csv', \n",
    "    delimiter=',', \n",
    "    usecols=['comment', 'isSarcastic'])\n"
   ],
   "outputs": [],
   "metadata": {}
  },
  {
   "cell_type": "code",
   "execution_count": null,
   "source": [
    "x_train, x_BMA_val, y_train, y_BMA_val = train_test_split(\n",
    "    train['comment'].astype(str), \n",
    "    train['isSarcastic'].astype(int), \n",
    "    test_size=0.33, \n",
    "    random_state=42, \n",
    "    shuffle=True, \n",
    "    stratify=train['isSarcastic'].astype(int))"
   ],
   "outputs": [],
   "metadata": {}
  },
  {
   "cell_type": "code",
   "execution_count": null,
   "source": [
    "# It is possible to specify different parameters, e.g. stopwords, lowercase\n",
    "from sklearn.feature_extraction.text import CountVectorizer\n",
    "\n",
    "count_vect = CountVectorizer(stop_words=None, lowercase=True, max_features=5000)\n",
    "count_vect = count_vect.fit(x_train)\n",
    "bow = count_vect.transform(x_train)"
   ],
   "outputs": [],
   "metadata": {}
  },
  {
   "cell_type": "code",
   "execution_count": null,
   "source": [
    "clf = SVC(verbose=1, kernel='rbf', probability=True, random_state=42, cache_size=1000)"
   ],
   "outputs": [],
   "metadata": {}
  },
  {
   "cell_type": "code",
   "execution_count": null,
   "source": [
    "skf = StratifiedKFold(n_splits=5, shuffle=True, random_state=42)"
   ],
   "outputs": [],
   "metadata": {}
  },
  {
   "cell_type": "markdown",
   "source": [
    "Search with all kernels takes to long.  \n",
    "**rbf** perform generally better than other kernels (if using large C value, ie. C = 10)."
   ],
   "metadata": {}
  },
  {
   "cell_type": "code",
   "execution_count": null,
   "source": [
    "params = {\n",
    "    'C': Real(0.1, 100, prior='log-uniform')\n",
    "}"
   ],
   "outputs": [],
   "metadata": {}
  },
  {
   "cell_type": "code",
   "execution_count": null,
   "source": [
    "opt = BayesSearchCV(\n",
    "    estimator=clf, \n",
    "    search_spaces=params, \n",
    "    n_iter=20, \n",
    "    cv=skf, \n",
    "    scoring='f1',\n",
    "    verbose=3,\n",
    "    random_state=42)"
   ],
   "outputs": [],
   "metadata": {}
  },
  {
   "cell_type": "code",
   "execution_count": null,
   "source": [
    "opt.fit(bow, y_train.values)"
   ],
   "outputs": [],
   "metadata": {}
  }
 ],
 "metadata": {
  "interpreter": {
   "hash": "31f2aee4e71d21fbe5cf8b01ff0e069b9275f58929596ceb00d14d90e3e16cd6"
  },
  "kernelspec": {
   "name": "python3",
   "display_name": "Python 3.6.9 64-bit"
  },
  "language_info": {
   "codemirror_mode": {
    "name": "ipython",
    "version": 3
   },
   "file_extension": ".py",
   "mimetype": "text/x-python",
   "name": "python",
   "nbconvert_exporter": "python",
   "pygments_lexer": "ipython3",
   "version": "3.6.9"
  },
  "metadata": {
   "interpreter": {
    "hash": "31f2aee4e71d21fbe5cf8b01ff0e069b9275f58929596ceb00d14d90e3e16cd6"
   }
  },
  "orig_nbformat": 2
 },
 "nbformat": 4,
 "nbformat_minor": 2
}