{
 "cells": [
  {
   "cell_type": "code",
   "execution_count": null,
   "source": [
    "import pandas as pd\n",
    "from sklearn.model_selection import train_test_split, StratifiedKFold\n",
    "from statistics import mean\n",
    "from sklearn.metrics import f1_score\n",
    "import xgboost as xgb\n",
    "from sklearn.feature_extraction.text import CountVectorizer\n",
    "from skopt.space import Real, Integer\n",
    "from skopt import BayesSearchCV"
   ],
   "outputs": [],
   "metadata": {}
  },
  {
   "cell_type": "code",
   "execution_count": null,
   "source": [
    "train = pd.read_csv(\n",
    "    '../data/preprocessed_data.csv', \n",
    "    delimiter=',', \n",
    "    usecols=['comment', 'isSarcastic'])\n"
   ],
   "outputs": [],
   "metadata": {}
  },
  {
   "cell_type": "code",
   "execution_count": null,
   "source": [
    "x_train, x_BMA_val, y_train, y_BMA_val = train_test_split(\n",
    "    train['comment'].astype(str), \n",
    "    train['isSarcastic'].astype(int), \n",
    "    test_size=0.33, \n",
    "    random_state=42, \n",
    "    shuffle=True, \n",
    "    stratify=train['isSarcastic'].astype(int))"
   ],
   "outputs": [],
   "metadata": {}
  },
  {
   "cell_type": "code",
   "execution_count": null,
   "source": [
    "count_vect = CountVectorizer(stop_words=None, lowercase=True, max_features=5000)\n",
    "count_vect = count_vect.fit(x_train)\n",
    "bow = count_vect.transform(x_train)"
   ],
   "outputs": [],
   "metadata": {}
  },
  {
   "cell_type": "code",
   "execution_count": null,
   "source": [
    "clf = xgb.XGBClassifier(\n",
    "    objective='binary:logistic',\n",
    "    random_state=42,\n",
    "    tree_method='gpu_hist',\n",
    "    use_label_encoder=False,\n",
    "    eval_metric = 'logloss'\n",
    "    )"
   ],
   "outputs": [],
   "metadata": {}
  },
  {
   "cell_type": "code",
   "execution_count": null,
   "source": [
    "params = {\n",
    "    'subsample': Real(0.1, 1, prior='log-uniform'),\n",
    "    'max_depth': Integer(5, 25, prior='log-uniform'),\n",
    "    'sampling_method': ['uniform', 'gradient_based'],\n",
    "    'lambda': Real(0.001, 1, prior='log-uniform'),\n",
    "    'alpha': Real(0.001, 1, prior='log-uniform'),\n",
    "    'learning_rate': Real(0.001, 0.3, prior='log-uniform'),\n",
    "    'colsample_bytree': Real(0.5, 1, prior='log-uniform'),\n",
    "    'gamma': Real(0.5, 10, prior='log-uniform'),\n",
    "    'n_estimators': Integer(50, 1000, prior='log-uniform'),\n",
    "}"
   ],
   "outputs": [],
   "metadata": {}
  },
  {
   "cell_type": "code",
   "execution_count": null,
   "source": [
    "skf = StratifiedKFold(n_splits=5, shuffle=True, random_state=42)"
   ],
   "outputs": [],
   "metadata": {}
  },
  {
   "cell_type": "code",
   "execution_count": null,
   "source": [
    "opt = BayesSearchCV(\n",
    "    estimator=clf, \n",
    "    search_spaces=params, \n",
    "    n_iter=50, \n",
    "    cv=skf, \n",
    "    scoring='f1',\n",
    "    random_state=42)"
   ],
   "outputs": [],
   "metadata": {}
  },
  {
   "cell_type": "code",
   "execution_count": null,
   "source": [
    "opt.fit(bow, y_train.values)"
   ],
   "outputs": [],
   "metadata": {}
  },
  {
   "cell_type": "code",
   "execution_count": 23,
   "source": [
    "opt.best_score_"
   ],
   "outputs": [
    {
     "output_type": "execute_result",
     "data": {
      "text/plain": [
       "0.6554571228913858"
      ]
     },
     "metadata": {},
     "execution_count": 23
    }
   ],
   "metadata": {}
  },
  {
   "cell_type": "code",
   "execution_count": 20,
   "source": [
    "# Manually refit the best classifier\n",
    "\n",
    "clf = xgb.XGBClassifier(\n",
    "    objective='binary:logistic',\n",
    "    random_state=42,\n",
    "    tree_method='gpu_hist',\n",
    "    use_label_encoder=False,\n",
    "    eval_metric = 'logloss',\n",
    "    reg_alpha = 0.0012908438331038965,\n",
    "    colsample_bytree = 0.9134233454813501,\n",
    "    gamma = 0.5601774433600644,\n",
    "    reg_lambda =  0.009088968514074753,\n",
    "    learning_rate = 0.236980563450212,\n",
    "    max_depth = 18,\n",
    "    n_estimators = 985,\n",
    "    sampling_method = 'uniform',\n",
    "    subsample = 0.3394318784339951\n",
    "    )"
   ],
   "outputs": [],
   "metadata": {}
  },
  {
   "cell_type": "code",
   "execution_count": 21,
   "source": [
    "clf.fit(bow, y_train.values)"
   ],
   "outputs": [
    {
     "output_type": "execute_result",
     "data": {
      "text/plain": [
       "XGBClassifier(base_score=0.5, booster='gbtree', colsample_bylevel=1,\n",
       "              colsample_bynode=1, colsample_bytree=0.9134233454813501,\n",
       "              eval_metric='logloss', gamma=0.5601774433600644, gpu_id=0,\n",
       "              importance_type='gain', interaction_constraints='',\n",
       "              learning_rate=0.236980563450212, max_delta_step=0, max_depth=18,\n",
       "              min_child_weight=1, missing=nan, monotone_constraints='()',\n",
       "              n_estimators=985, n_jobs=16, num_parallel_tree=1, random_state=42,\n",
       "              reg_alpha=0.0012908438331038965, reg_lambda=0.009088968514074753,\n",
       "              sampling_method='uniform', scale_pos_weight=1,\n",
       "              subsample=0.3394318784339951, tree_method='gpu_hist',\n",
       "              use_label_encoder=False, validate_parameters=1, verbosity=None)"
      ]
     },
     "metadata": {},
     "execution_count": 21
    }
   ],
   "metadata": {}
  },
  {
   "cell_type": "code",
   "execution_count": 29,
   "source": [
    "import pickle\n",
    "pickle.dump(clf, open('../classifiers/xgboost.pickled', 'wb'))"
   ],
   "outputs": [],
   "metadata": {}
  }
 ],
 "metadata": {
  "interpreter": {
   "hash": "31f2aee4e71d21fbe5cf8b01ff0e069b9275f58929596ceb00d14d90e3e16cd6"
  },
  "kernelspec": {
   "name": "python3",
   "display_name": "Python 3.6.9 64-bit"
  },
  "language_info": {
   "codemirror_mode": {
    "name": "ipython",
    "version": 3
   },
   "file_extension": ".py",
   "mimetype": "text/x-python",
   "name": "python",
   "nbconvert_exporter": "python",
   "pygments_lexer": "ipython3",
   "version": "3.6.9"
  },
  "metadata": {
   "interpreter": {
    "hash": "31f2aee4e71d21fbe5cf8b01ff0e069b9275f58929596ceb00d14d90e3e16cd6"
   }
  },
  "orig_nbformat": 2
 },
 "nbformat": 4,
 "nbformat_minor": 2
}