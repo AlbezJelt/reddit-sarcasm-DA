{
    "cells": [
        {
            "cell_type": "code",
            "execution_count": 1,
            "source": [
                "%load_ext cython\n",
                "import gensim.models\n",
                "import os\n",
                "from pathlib import Path"
            ],
            "outputs": [],
            "metadata": {}
        },
        {
            "cell_type": "code",
            "execution_count": 2,
            "source": [
                "data_folder = os.path.join(Path(os.getcwd()).parent, 'data')"
            ],
            "outputs": [],
            "metadata": {}
        },
        {
            "cell_type": "code",
            "execution_count": 3,
            "source": [
                "from gensim.test.utils import datapath\n",
                "from gensim import utils\n",
                "\n",
                "class MyCorpus:\n",
                "    \"\"\"An iterator that yields sentences (lists of str).\"\"\"\n",
                "\n",
                "    def __iter__(self):\n",
                "        corpus_path = f'{data_folder}/spacy_pre.txt'\n",
                "        for line in open(corpus_path):\n",
                "            # assume there's one document per line, tokens separated by whitespace\n",
                "            yield utils.simple_preprocess(line)"
            ],
            "outputs": [],
            "metadata": {}
        },
        {
            "cell_type": "code",
            "execution_count": 4,
            "source": [
                "corpus_path = f'{data_folder}/spacy_pre.txt'\n",
                "corp_count = 0\n",
                "for line in open(corpus_path):\n",
                "    corp_count += 1"
            ],
            "outputs": [],
            "metadata": {}
        },
        {
            "cell_type": "code",
            "execution_count": 26,
            "source": [
                "sentences = MyCorpus()\n",
                "model = gensim.models.Word2Vec(workers=12, vector_size=32, min_count=10, window=5)"
            ],
            "outputs": [],
            "metadata": {}
        },
        {
            "cell_type": "code",
            "execution_count": 6,
            "source": [
                "import json\n",
                "with open(f'{data_folder}/spacy_dictionary.json', 'r') as file:\n",
                "    dictionary = json.load(file)"
            ],
            "outputs": [],
            "metadata": {}
        },
        {
            "cell_type": "code",
            "execution_count": 28,
            "source": [
                "model.build_vocab_from_freq(dictionary, corpus_count=corp_count)"
            ],
            "outputs": [],
            "metadata": {}
        },
        {
            "cell_type": "code",
            "execution_count": 8,
            "source": [
                "from gensim.models.callbacks import CallbackAny2Vec\n",
                "from pprint import pprint\n",
                "class MonitorCallback(CallbackAny2Vec):\n",
                "    def __init__(self, test_words):\n",
                "        self._test_words = test_words\n",
                "        self.epoch = 0\n",
                "\n",
                "    def on_epoch_end(self, model):\n",
                "        loss = model.get_latest_training_loss()\n",
                "        if self.epoch == 0:\n",
                "            print('Loss after epoch {}: {}'.format(self.epoch, loss))\n",
                "        else:\n",
                "            print('Loss after epoch {}: {}'.format(self.epoch, loss- self.loss_previous_step))\n",
                "        self.epoch += 1\n",
                "        self.loss_previous_step = loss\n",
                "        for word in self._test_words:  # show wv logic changes\n",
                "            pprint({word : model.wv.most_similar(word)[:3]})\n",
                "        print('')"
            ],
            "outputs": [],
            "metadata": {}
        },
        {
            "cell_type": "code",
            "execution_count": 29,
            "source": [
                "monitor = MonitorCallback(['internet', 'vax', 'botw'])\n",
                "model.train(sentences, total_examples=model.corpus_count, epochs=1, callbacks=[monitor], compute_loss=True)"
            ],
            "outputs": [
                {
                    "output_type": "stream",
                    "name": "stdout",
                    "text": [
                        "Loss after epoch 0: 2991131.75\n",
                        "{'internet': [('website', 0.8468858003616333),\n",
                        "              ('site', 0.8424097895622253),\n",
                        "              ('user', 0.8165557980537415)]}\n",
                        "{'vax': [('statist', 0.939915120601654),\n",
                        "         ('sympathetic', 0.9387148022651672),\n",
                        "         ('globalist', 0.9371417760848999)]}\n",
                        "{'botw': [('battleborn', 0.9339108467102051),\n",
                        "          ('remaster', 0.9239599108695984),\n",
                        "          ('tlou', 0.9229303598403931)]}\n",
                        "\n"
                    ]
                },
                {
                    "output_type": "execute_result",
                    "data": {
                        "text/plain": [
                            "(14368748, 15351048)"
                        ]
                    },
                    "metadata": {},
                    "execution_count": 29
                }
            ],
            "metadata": {}
        },
        {
            "cell_type": "code",
            "execution_count": 31,
            "source": [
                "model.wv.save_word2vec_format('../saved_model/w2v_spacy_32.txt', binary=False)"
            ],
            "outputs": [],
            "metadata": {}
        },
        {
            "cell_type": "code",
            "execution_count": 30,
            "source": [
                "model.wv.most_similar('xbox')"
            ],
            "outputs": [
                {
                    "output_type": "execute_result",
                    "data": {
                        "text/plain": [
                            "[('ps', 0.9757418036460876),\n",
                            " ('gta', 0.9434359073638916),\n",
                            " ('vr', 0.9424576759338379),\n",
                            " ('console', 0.9387712478637695),\n",
                            " ('beta', 0.935235321521759),\n",
                            " ('playstation', 0.9293619394302368),\n",
                            " ('nintendo', 0.9288991093635559),\n",
                            " ('exclusive', 0.9270581603050232),\n",
                            " ('wii', 0.9227364659309387),\n",
                            " ('ds', 0.9206281304359436)]"
                        ]
                    },
                    "metadata": {},
                    "execution_count": 30
                }
            ],
            "metadata": {}
        }
    ],
    "metadata": {
        "orig_nbformat": 4,
        "language_info": {
            "name": "python"
        }
    },
    "nbformat": 4,
    "nbformat_minor": 2
}