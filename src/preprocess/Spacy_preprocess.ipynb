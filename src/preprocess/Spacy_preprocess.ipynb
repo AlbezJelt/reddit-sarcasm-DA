{
 "cells": [
  {
   "cell_type": "markdown",
   "metadata": {},
   "source": [
    "# Text preprocessing with Spacy\n",
    "The following notebook preprocess the text from the dataset using the [Spacy](https://spacy.io/) library.\n",
    "\n",
    "First import spacy, pandas to load the dataset and some utility methods."
   ]
  },
  {
   "cell_type": "code",
   "execution_count": 2,
   "metadata": {},
   "outputs": [],
   "source": [
    "import os\n",
    "import sys\n",
    "nb_dir = os.path.split(os.getcwd())[0]\n",
    "if nb_dir not in sys.path:\n",
    "    sys.path.append(nb_dir)\n",
    "\n",
    "import pandas as pd\n",
    "import spacy\n",
    "from utils import get_counter\n",
    "import json\n",
    "import itertools"
   ]
  },
  {
   "cell_type": "markdown",
   "metadata": {},
   "source": [
    "Set up Spacy to use the GPU (if possible), then load the fast and optimized Spacy's English pipeline [en_core_web_sm](https://spacy.io/models/en#en_core_web_sm)."
   ]
  },
  {
   "cell_type": "code",
   "execution_count": 3,
   "metadata": {},
   "outputs": [],
   "source": [
    "spacy.prefer_gpu()\n",
    "nlp = spacy.load(\"en_core_web_sm\")"
   ]
  },
  {
   "cell_type": "code",
   "execution_count": 4,
   "metadata": {},
   "outputs": [],
   "source": [
    "# All the removable punctation \n",
    "# Does NOT contains ! (exclamation mark), ? (question mark) and . (point).\n",
    "punctuation = \"#$%&'()*+,-/:;<=>@[\\]^_`{|}~\" + '\"'\n",
    "\n",
    "# Preserve the excluded punctation, normalizing repetitions in a single letter.\n",
    "# Special case for point: only multiple points (n>=2) are preserved, normalized with '...'\n",
    "def multi_punct(word:str) -> str:\n",
    "    joined = ''.join(sorted(set(word), key=word.index))\n",
    "    if joined in '!':\n",
    "        return '!'\n",
    "    if joined in '?':\n",
    "        return '?'\n",
    "    if joined in '.':\n",
    "        if len(word) >= 2:\n",
    "            return '...'\n",
    "        else:\n",
    "            return ''\n",
    "    return word      "
   ]
  },
  {
   "cell_type": "code",
   "execution_count": 5,
   "metadata": {},
   "outputs": [],
   "source": [
    "# Preprocess steps executed after Spacy's pipeline execution.\n",
    "def spacy_process(doc):\n",
    "    \n",
    "    # Tokenization and lemmatization are done with the spacy nlp pipeline commands    \n",
    "    out_list = (token.lemma_ for token in doc)\n",
    "\n",
    "    # Filter out stopwords\n",
    "    out_list = (word for word in out_list if not nlp.vocab[word].is_stop)\n",
    "    \n",
    "    # Remove punctuation  \n",
    "    out_list = (multi_punct(word) for word in out_list if not ''.join(sorted(set(word), key=word.index)) in punctuation)\n",
    "    \n",
    "    # Remove digits and decimal value\n",
    "    out_list = (item for item in out_list if item and (not item.isdecimal() or not item.isdigit()))\n",
    "\n",
    "    # Lowercase everything\n",
    "    return list(map(str.lower, out_list))\n"
   ]
  },
  {
   "cell_type": "markdown",
   "metadata": {},
   "source": [
    "Load the train dataset with pandas."
   ]
  },
  {
   "cell_type": "code",
   "execution_count": 6,
   "metadata": {},
   "outputs": [],
   "source": [
    "train = pd.read_csv(\n",
    "    '../../data/train-balanced.tsv', \n",
    "    delimiter='\\t', \n",
    "    names=['isSarcastic', 'comment', 'user', 'subreddit', 'date','parent'])"
   ]
  },
  {
   "cell_type": "markdown",
   "metadata": {},
   "source": [
    "Setup pipelines for comment text and parent text.\n",
    "The [DependencyParser](https://spacy.io/api/dependencyparser) and [EntityRecognizer](https://spacy.io/api/entityrecognizer) are left disabled."
   ]
  },
  {
   "cell_type": "code",
   "execution_count": 7,
   "metadata": {},
   "outputs": [],
   "source": [
    "comments_nlp = nlp.pipe(\n",
    "    train['comment'].astype(str).values,\n",
    "    disable=['parser', 'ner'])\n",
    "\n",
    "parents_nlp = nlp.pipe(\n",
    "    train['parent'].astype(str).values,\n",
    "    disable=['parser', 'ner'])"
   ]
  },
  {
   "cell_type": "markdown",
   "metadata": {},
   "source": [
    "Pipelines are executed: those are implemented with a series of iterator, consumed with the *list()* function."
   ]
  },
  {
   "cell_type": "code",
   "execution_count": 8,
   "metadata": {},
   "outputs": [],
   "source": [
    "comments = list(map(spacy_process, comments_nlp))"
   ]
  },
  {
   "cell_type": "code",
   "execution_count": 9,
   "metadata": {},
   "outputs": [],
   "source": [
    "parents = list(map(spacy_process, parents_nlp))"
   ]
  },
  {
   "cell_type": "markdown",
   "metadata": {},
   "source": [
    "The preprocessed data is exported as csv. **user** and **date** attributes are ignored."
   ]
  },
  {
   "cell_type": "code",
   "execution_count": 10,
   "metadata": {},
   "outputs": [],
   "source": [
    "export = pd.DataFrame(\n",
    "    {\n",
    "        'comment': list(map(lambda x: ' '.join(x), comments)), \n",
    "        'parent': list(map(lambda x: ' '.join(x), parents)), \n",
    "        'subreddit': train.subreddit, \n",
    "        'isSarcastic':train.isSarcastic\n",
    "    }\n",
    ")\n",
    "export.to_csv('../../data/spacy_preprocessed/spacy_preprocessed_data.csv')"
   ]
  },
  {
   "cell_type": "markdown",
   "metadata": {},
   "source": [
    "The dictionaries for the following corpus are extracted:\n",
    "- comments\n",
    "- parents\n",
    "- comments + parents"
   ]
  },
  {
   "cell_type": "code",
   "execution_count": 14,
   "metadata": {},
   "outputs": [],
   "source": [
    "dictionary = {word : count for word, count in get_counter(itertools.chain(comments, parents)).most_common()}\n",
    "with open('../../data/spacy_preprocessed/spacy_dictionary_cp.json', 'w') as file:\n",
    "    json.dump(dictionary, file)\n",
    "\n",
    "dictionary = {word : count for word, count in get_counter(comments).most_common()}\n",
    "with open('../../data/spacy_preprocessed/spacy_dictionary_comments.json', 'w') as file:\n",
    "    json.dump(dictionary, file)\n",
    "\n",
    "dictionary = {word : count for word, count in get_counter(parents).most_common()}\n",
    "with open('../../data/spacy_preprocessed/spacy_dictionary_parents.json', 'w') as file:\n",
    "    json.dump(dictionary, file)"
   ]
  },
  {
   "cell_type": "code",
   "execution_count": 13,
   "metadata": {},
   "outputs": [],
   "source": [
    "# with open('../data/spacy_pre.txt', 'w') as file:\n",
    "#     for sentence in itertools.chain(export.comment, export.parent):\n",
    "#         file.write(str(sentence) + '\\n')"
   ]
  }
 ],
 "metadata": {
  "interpreter": {
   "hash": "31f2aee4e71d21fbe5cf8b01ff0e069b9275f58929596ceb00d14d90e3e16cd6"
  },
  "kernelspec": {
   "display_name": "Python 3.6.9 64-bit",
   "name": "python3"
  },
  "language_info": {
   "codemirror_mode": {
    "name": "ipython",
    "version": 3
   },
   "file_extension": ".py",
   "mimetype": "text/x-python",
   "name": "python",
   "nbconvert_exporter": "python",
   "pygments_lexer": "ipython3",
   "version": "3.6.9"
  },
  "orig_nbformat": 4
 },
 "nbformat": 4,
 "nbformat_minor": 2
}
