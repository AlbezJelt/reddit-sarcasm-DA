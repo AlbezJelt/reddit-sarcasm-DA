{
 "cells": [
  {
   "cell_type": "code",
   "execution_count": null,
   "source": [
    "import pandas as pd\n",
    "from sklearn.model_selection import train_test_split\n",
    "import tensorflow as tf\n",
    "import numpy as np"
   ],
   "outputs": [],
   "metadata": {}
  },
  {
   "cell_type": "code",
   "execution_count": null,
   "source": [
    "train = pd.read_csv(\n",
    "    '../data/preprocessed_data.csv', \n",
    "    delimiter=',', \n",
    "    usecols=['comment', 'isSarcastic'])\n"
   ],
   "outputs": [],
   "metadata": {}
  },
  {
   "cell_type": "code",
   "execution_count": null,
   "source": [
    "x_train, x_BMA_val, y_train, y_BMA_val = train_test_split(\n",
    "    train['comment'].astype(str), \n",
    "    train['isSarcastic'].astype(int), \n",
    "    test_size=0.33, \n",
    "    random_state=42, \n",
    "    shuffle=True, \n",
    "    stratify=train['isSarcastic'].astype(int))"
   ],
   "outputs": [],
   "metadata": {}
  },
  {
   "cell_type": "code",
   "execution_count": null,
   "source": [
    "# It is possible to specify different parameters, e.g. stopwords, lowercase\n",
    "from sklearn.feature_extraction.text import CountVectorizer\n",
    "\n",
    "count_vect = CountVectorizer(stop_words=None, lowercase=True, min_df=10)\n",
    "count_vect = count_vect.fit(x_train)\n",
    "bow = count_vect.transform(x_train)"
   ],
   "outputs": [],
   "metadata": {}
  },
  {
   "cell_type": "code",
   "execution_count": null,
   "source": [
    "def convert_sparse_matrix_to_sparse_tensor(X):\n",
    "    coo = X.tocoo()\n",
    "    indices = np.mat([coo.row, coo.col]).transpose()\n",
    "    return tf.sparse.reorder(tf.SparseTensor(indices, coo.data, coo.shape))"
   ],
   "outputs": [],
   "metadata": {}
  },
  {
   "cell_type": "code",
   "execution_count": null,
   "source": [
    "bow_tensor = convert_sparse_matrix_to_sparse_tensor(bow)"
   ],
   "outputs": [],
   "metadata": {}
  },
  {
   "cell_type": "code",
   "execution_count": null,
   "source": [
    "with tf.device('/cpu:0'):\n",
    "    train = tf.data.Dataset.from_tensor_slices(\n",
    "        (bow_tensor, y_train.values)\n",
    "        )\n",
    "\n",
    "    # val = tf.data.Dataset.from_tensor_slices(\n",
    "    #     (x_val['comment'].values, y_val.values)\n",
    "    #     )\n",
    "\n",
    "    AUTOTUNE = tf.data.AUTOTUNE\n",
    "    batch_size = 64\n",
    "    seed = 996\n",
    "\n",
    "    train = train.shuffle(bow.shape[0], seed = seed).repeat().batch(batch_size)\n",
    "    train = train.cache().prefetch(buffer_size=AUTOTUNE)\n",
    "\n",
    "    # val = val.repeat().batch(batch_size)\n",
    "    # val = val.cache().prefetch(buffer_size=AUTOTUNE)"
   ],
   "outputs": [],
   "metadata": {}
  },
  {
   "cell_type": "code",
   "execution_count": null,
   "source": [
    "import tensorflow.keras as keras\n",
    "\n",
    "input = keras.Input(shape=bow.shape[1], name='input')\n",
    "x = keras.layers.Dense(500, activation='relu')(input)\n",
    "x = keras.layers.Dropout(0.5)(x)\n",
    "x = keras.layers.Dense(100, activation='relu')(x)\n",
    "x = keras.layers.Dropout(0.5)(x)\n",
    "x = keras.layers.Dense(10, activation='relu')(x)\n",
    "x = keras.layers.Dropout(0.5)(x)\n",
    "output = keras.layers.Dense(1, activation='sigmoid', name='output')(x)\n",
    "\n",
    "model = keras.Model(inputs=input, outputs=output)"
   ],
   "outputs": [],
   "metadata": {}
  },
  {
   "cell_type": "code",
   "execution_count": null,
   "source": [
    "model.summary()"
   ],
   "outputs": [],
   "metadata": {}
  },
  {
   "cell_type": "code",
   "execution_count": null,
   "source": [
    "model.compile(\n",
    "    loss=keras.losses.BinaryCrossentropy(from_logits=False),\n",
    "    optimizer=keras.optimizers.Adam(),\n",
    "    metrics=[keras.metrics.BinaryAccuracy(), keras.metrics.Precision(), keras.metrics.Recall()]\n",
    "    )"
   ],
   "outputs": [],
   "metadata": {}
  },
  {
   "cell_type": "code",
   "execution_count": null,
   "source": [
    "steps_per_epoch = bow.shape[0] // batch_size"
   ],
   "outputs": [],
   "metadata": {}
  },
  {
   "cell_type": "code",
   "execution_count": null,
   "source": [
    "history = model.fit(train, steps_per_epoch= steps_per_epoch, epochs=10)"
   ],
   "outputs": [],
   "metadata": {}
  }
 ],
 "metadata": {
  "interpreter": {
   "hash": "435981eea2fd599347b25f72dea376f1dd2ee1f51d8c0d5898087d7e6cc0802c"
  },
  "kernelspec": {
   "name": "python3",
   "display_name": "Python 3.8.5 64-bit ('reddit-sarcasm-DA-YvfGmqJN': pipenv)"
  },
  "language_info": {
   "codemirror_mode": {
    "name": "ipython",
    "version": 3
   },
   "file_extension": ".py",
   "mimetype": "text/x-python",
   "name": "python",
   "nbconvert_exporter": "python",
   "pygments_lexer": "ipython3",
   "version": "3.8.5"
  },
  "metadata": {
   "interpreter": {
    "hash": "31f2aee4e71d21fbe5cf8b01ff0e069b9275f58929596ceb00d14d90e3e16cd6"
   }
  },
  "orig_nbformat": 2
 },
 "nbformat": 4,
 "nbformat_minor": 2
}