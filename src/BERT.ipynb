{
    "cells": [
        {
            "cell_type": "code",
            "execution_count": 1,
            "source": [
                "import os\n",
                "import shutil\n",
                "\n",
                "import tensorflow as tf\n",
                "import tensorflow_hub as hub\n",
                "import tensorflow_text as text\n",
                "from official.nlp import optimization  # to create AdamW optimizer\n",
                "import pandas as pd\n",
                "from utils import from_logit_metrics as logit_metrics\n",
                "\n",
                "import matplotlib.pyplot as plt"
            ],
            "outputs": [],
            "metadata": {}
        },
        {
            "cell_type": "code",
            "execution_count": 2,
            "source": [
                "train = pd.read_csv(\n",
                "    '../data/train-balanced.tsv', \n",
                "    delimiter='\\t', \n",
                "    names=['isSarcastic', 'comment', 'user', 'subreddit', 'date','parent'])\n",
                "\n",
                "X = train[['comment', 'parent', 'subreddit']].astype(str)\n",
                "Y = train['isSarcastic'].astype(int)"
            ],
            "outputs": [],
            "metadata": {}
        },
        {
            "cell_type": "code",
            "execution_count": 3,
            "source": [
                "from sklearn.model_selection import train_test_split\n",
                "\n",
                "x_train, x_val, y_train, y_val = train_test_split(X, Y,\n",
                "    test_size=0.2,\n",
                "    random_state=996,\n",
                "    stratify=Y\n",
                "    )"
            ],
            "outputs": [],
            "metadata": {}
        },
        {
            "cell_type": "code",
            "execution_count": 4,
            "source": [
                "with tf.device('/cpu:0'):\n",
                "    train = tf.data.Dataset.from_tensor_slices(\n",
                "        (x_train['comment'].values, y_train.values)\n",
                "        )\n",
                "\n",
                "    val = tf.data.Dataset.from_tensor_slices(\n",
                "        (x_val['comment'].values, y_val.values)\n",
                "        )\n",
                "\n",
                "    AUTOTUNE = tf.data.AUTOTUNE\n",
                "    batch_size = 64\n",
                "    seed = 996\n",
                "\n",
                "    train = train.shuffle(len(x_train), seed = seed).repeat().batch(batch_size)\n",
                "    train = train.cache().prefetch(buffer_size=AUTOTUNE)\n",
                "\n",
                "    val = val.repeat().batch(batch_size)\n",
                "    val = val.cache().prefetch(buffer_size=AUTOTUNE)"
            ],
            "outputs": [],
            "metadata": {}
        },
        {
            "cell_type": "code",
            "execution_count": 5,
            "source": [
                "bert_model_name = 'small_bert/bert_en_uncased_L-4_H-512_A-8' \n",
                "\n",
                "map_name_to_handle = {\n",
                "    'bert_en_uncased_L-12_H-768_A-12':\n",
                "        'https://tfhub.dev/tensorflow/bert_en_uncased_L-12_H-768_A-12/3',\n",
                "    'bert_en_cased_L-12_H-768_A-12':\n",
                "        'https://tfhub.dev/tensorflow/bert_en_cased_L-12_H-768_A-12/3',\n",
                "    'bert_multi_cased_L-12_H-768_A-12':\n",
                "        'https://tfhub.dev/tensorflow/bert_multi_cased_L-12_H-768_A-12/3',\n",
                "    'small_bert/bert_en_uncased_L-2_H-128_A-2':\n",
                "        'https://tfhub.dev/tensorflow/small_bert/bert_en_uncased_L-2_H-128_A-2/1',\n",
                "    'small_bert/bert_en_uncased_L-2_H-256_A-4':\n",
                "        'https://tfhub.dev/tensorflow/small_bert/bert_en_uncased_L-2_H-256_A-4/1',\n",
                "    'small_bert/bert_en_uncased_L-2_H-512_A-8':\n",
                "        'https://tfhub.dev/tensorflow/small_bert/bert_en_uncased_L-2_H-512_A-8/1',\n",
                "    'small_bert/bert_en_uncased_L-2_H-768_A-12':\n",
                "        'https://tfhub.dev/tensorflow/small_bert/bert_en_uncased_L-2_H-768_A-12/1',\n",
                "    'small_bert/bert_en_uncased_L-4_H-128_A-2':\n",
                "        'https://tfhub.dev/tensorflow/small_bert/bert_en_uncased_L-4_H-128_A-2/1',\n",
                "    'small_bert/bert_en_uncased_L-4_H-256_A-4':\n",
                "        'https://tfhub.dev/tensorflow/small_bert/bert_en_uncased_L-4_H-256_A-4/1',\n",
                "    'small_bert/bert_en_uncased_L-4_H-512_A-8':\n",
                "        'https://tfhub.dev/tensorflow/small_bert/bert_en_uncased_L-4_H-512_A-8/1',\n",
                "    'small_bert/bert_en_uncased_L-4_H-768_A-12':\n",
                "        'https://tfhub.dev/tensorflow/small_bert/bert_en_uncased_L-4_H-768_A-12/1',\n",
                "    'small_bert/bert_en_uncased_L-6_H-128_A-2':\n",
                "        'https://tfhub.dev/tensorflow/small_bert/bert_en_uncased_L-6_H-128_A-2/1',\n",
                "    'small_bert/bert_en_uncased_L-6_H-256_A-4':\n",
                "        'https://tfhub.dev/tensorflow/small_bert/bert_en_uncased_L-6_H-256_A-4/1',\n",
                "    'small_bert/bert_en_uncased_L-6_H-512_A-8':\n",
                "        'https://tfhub.dev/tensorflow/small_bert/bert_en_uncased_L-6_H-512_A-8/1',\n",
                "    'small_bert/bert_en_uncased_L-6_H-768_A-12':\n",
                "        'https://tfhub.dev/tensorflow/small_bert/bert_en_uncased_L-6_H-768_A-12/1',\n",
                "    'small_bert/bert_en_uncased_L-8_H-128_A-2':\n",
                "        'https://tfhub.dev/tensorflow/small_bert/bert_en_uncased_L-8_H-128_A-2/1',\n",
                "    'small_bert/bert_en_uncased_L-8_H-256_A-4':\n",
                "        'https://tfhub.dev/tensorflow/small_bert/bert_en_uncased_L-8_H-256_A-4/1',\n",
                "    'small_bert/bert_en_uncased_L-8_H-512_A-8':\n",
                "        'https://tfhub.dev/tensorflow/small_bert/bert_en_uncased_L-8_H-512_A-8/1',\n",
                "    'small_bert/bert_en_uncased_L-8_H-768_A-12':\n",
                "        'https://tfhub.dev/tensorflow/small_bert/bert_en_uncased_L-8_H-768_A-12/1',\n",
                "    'small_bert/bert_en_uncased_L-10_H-128_A-2':\n",
                "        'https://tfhub.dev/tensorflow/small_bert/bert_en_uncased_L-10_H-128_A-2/1',\n",
                "    'small_bert/bert_en_uncased_L-10_H-256_A-4':\n",
                "        'https://tfhub.dev/tensorflow/small_bert/bert_en_uncased_L-10_H-256_A-4/1',\n",
                "    'small_bert/bert_en_uncased_L-10_H-512_A-8':\n",
                "        'https://tfhub.dev/tensorflow/small_bert/bert_en_uncased_L-10_H-512_A-8/1',\n",
                "    'small_bert/bert_en_uncased_L-10_H-768_A-12':\n",
                "        'https://tfhub.dev/tensorflow/small_bert/bert_en_uncased_L-10_H-768_A-12/1',\n",
                "    'small_bert/bert_en_uncased_L-12_H-128_A-2':\n",
                "        'https://tfhub.dev/tensorflow/small_bert/bert_en_uncased_L-12_H-128_A-2/1',\n",
                "    'small_bert/bert_en_uncased_L-12_H-256_A-4':\n",
                "        'https://tfhub.dev/tensorflow/small_bert/bert_en_uncased_L-12_H-256_A-4/1',\n",
                "    'small_bert/bert_en_uncased_L-12_H-512_A-8':\n",
                "        'https://tfhub.dev/tensorflow/small_bert/bert_en_uncased_L-12_H-512_A-8/1',\n",
                "    'small_bert/bert_en_uncased_L-12_H-768_A-12':\n",
                "        'https://tfhub.dev/tensorflow/small_bert/bert_en_uncased_L-12_H-768_A-12/1',\n",
                "    'albert_en_base':\n",
                "        'https://tfhub.dev/tensorflow/albert_en_base/2',\n",
                "    'electra_small':\n",
                "        'https://tfhub.dev/google/electra_small/2',\n",
                "    'electra_base':\n",
                "        'https://tfhub.dev/google/electra_base/2',\n",
                "    'experts_pubmed':\n",
                "        'https://tfhub.dev/google/experts/bert/pubmed/2',\n",
                "    'experts_wiki_books':\n",
                "        'https://tfhub.dev/google/experts/bert/wiki_books/2',\n",
                "    'talking-heads_base':\n",
                "        'https://tfhub.dev/tensorflow/talkheads_ggelu_bert_en_base/1',\n",
                "}\n",
                "\n",
                "map_model_to_preprocess = {\n",
                "    'bert_en_uncased_L-12_H-768_A-12':\n",
                "        'https://tfhub.dev/tensorflow/bert_en_uncased_preprocess/3',\n",
                "    'bert_en_cased_L-12_H-768_A-12':\n",
                "        'https://tfhub.dev/tensorflow/bert_en_cased_preprocess/3',\n",
                "    'small_bert/bert_en_uncased_L-2_H-128_A-2':\n",
                "        'https://tfhub.dev/tensorflow/bert_en_uncased_preprocess/3',\n",
                "    'small_bert/bert_en_uncased_L-2_H-256_A-4':\n",
                "        'https://tfhub.dev/tensorflow/bert_en_uncased_preprocess/3',\n",
                "    'small_bert/bert_en_uncased_L-2_H-512_A-8':\n",
                "        'https://tfhub.dev/tensorflow/bert_en_uncased_preprocess/3',\n",
                "    'small_bert/bert_en_uncased_L-2_H-768_A-12':\n",
                "        'https://tfhub.dev/tensorflow/bert_en_uncased_preprocess/3',\n",
                "    'small_bert/bert_en_uncased_L-4_H-128_A-2':\n",
                "        'https://tfhub.dev/tensorflow/bert_en_uncased_preprocess/3',\n",
                "    'small_bert/bert_en_uncased_L-4_H-256_A-4':\n",
                "        'https://tfhub.dev/tensorflow/bert_en_uncased_preprocess/3',\n",
                "    'small_bert/bert_en_uncased_L-4_H-512_A-8':\n",
                "        'https://tfhub.dev/tensorflow/bert_en_uncased_preprocess/3',\n",
                "    'small_bert/bert_en_uncased_L-4_H-768_A-12':\n",
                "        'https://tfhub.dev/tensorflow/bert_en_uncased_preprocess/3',\n",
                "    'small_bert/bert_en_uncased_L-6_H-128_A-2':\n",
                "        'https://tfhub.dev/tensorflow/bert_en_uncased_preprocess/3',\n",
                "    'small_bert/bert_en_uncased_L-6_H-256_A-4':\n",
                "        'https://tfhub.dev/tensorflow/bert_en_uncased_preprocess/3',\n",
                "    'small_bert/bert_en_uncased_L-6_H-512_A-8':\n",
                "        'https://tfhub.dev/tensorflow/bert_en_uncased_preprocess/3',\n",
                "    'small_bert/bert_en_uncased_L-6_H-768_A-12':\n",
                "        'https://tfhub.dev/tensorflow/bert_en_uncased_preprocess/3',\n",
                "    'small_bert/bert_en_uncased_L-8_H-128_A-2':\n",
                "        'https://tfhub.dev/tensorflow/bert_en_uncased_preprocess/3',\n",
                "    'small_bert/bert_en_uncased_L-8_H-256_A-4':\n",
                "        'https://tfhub.dev/tensorflow/bert_en_uncased_preprocess/3',\n",
                "    'small_bert/bert_en_uncased_L-8_H-512_A-8':\n",
                "        'https://tfhub.dev/tensorflow/bert_en_uncased_preprocess/3',\n",
                "    'small_bert/bert_en_uncased_L-8_H-768_A-12':\n",
                "        'https://tfhub.dev/tensorflow/bert_en_uncased_preprocess/3',\n",
                "    'small_bert/bert_en_uncased_L-10_H-128_A-2':\n",
                "        'https://tfhub.dev/tensorflow/bert_en_uncased_preprocess/3',\n",
                "    'small_bert/bert_en_uncased_L-10_H-256_A-4':\n",
                "        'https://tfhub.dev/tensorflow/bert_en_uncased_preprocess/3',\n",
                "    'small_bert/bert_en_uncased_L-10_H-512_A-8':\n",
                "        'https://tfhub.dev/tensorflow/bert_en_uncased_preprocess/3',\n",
                "    'small_bert/bert_en_uncased_L-10_H-768_A-12':\n",
                "        'https://tfhub.dev/tensorflow/bert_en_uncased_preprocess/3',\n",
                "    'small_bert/bert_en_uncased_L-12_H-128_A-2':\n",
                "        'https://tfhub.dev/tensorflow/bert_en_uncased_preprocess/3',\n",
                "    'small_bert/bert_en_uncased_L-12_H-256_A-4':\n",
                "        'https://tfhub.dev/tensorflow/bert_en_uncased_preprocess/3',\n",
                "    'small_bert/bert_en_uncased_L-12_H-512_A-8':\n",
                "        'https://tfhub.dev/tensorflow/bert_en_uncased_preprocess/3',\n",
                "    'small_bert/bert_en_uncased_L-12_H-768_A-12':\n",
                "        'https://tfhub.dev/tensorflow/bert_en_uncased_preprocess/3',\n",
                "    'bert_multi_cased_L-12_H-768_A-12':\n",
                "        'https://tfhub.dev/tensorflow/bert_multi_cased_preprocess/3',\n",
                "    'albert_en_base':\n",
                "        'https://tfhub.dev/tensorflow/albert_en_preprocess/3',\n",
                "    'electra_small':\n",
                "        'https://tfhub.dev/tensorflow/bert_en_uncased_preprocess/3',\n",
                "    'electra_base':\n",
                "        'https://tfhub.dev/tensorflow/bert_en_uncased_preprocess/3',\n",
                "    'experts_pubmed':\n",
                "        'https://tfhub.dev/tensorflow/bert_en_uncased_preprocess/3',\n",
                "    'experts_wiki_books':\n",
                "        'https://tfhub.dev/tensorflow/bert_en_uncased_preprocess/3',\n",
                "    'talking-heads_base':\n",
                "        'https://tfhub.dev/tensorflow/bert_en_uncased_preprocess/3',\n",
                "}\n",
                "\n",
                "tfhub_handle_encoder = map_name_to_handle[bert_model_name]\n",
                "tfhub_handle_preprocess = map_model_to_preprocess[bert_model_name]\n",
                "\n",
                "print(f'BERT model selected           : {tfhub_handle_encoder}')\n",
                "print(f'Preprocess model auto-selected: {tfhub_handle_preprocess}')\n"
            ],
            "outputs": [
                {
                    "output_type": "stream",
                    "name": "stdout",
                    "text": [
                        "BERT model selected           : https://tfhub.dev/tensorflow/small_bert/bert_en_uncased_L-4_H-512_A-8/1\n",
                        "Preprocess model auto-selected: https://tfhub.dev/tensorflow/bert_en_uncased_preprocess/3\n"
                    ]
                }
            ],
            "metadata": {}
        },
        {
            "cell_type": "code",
            "execution_count": 6,
            "source": [
                "bert_preprocess_model = hub.KerasLayer(tfhub_handle_preprocess)"
            ],
            "outputs": [],
            "metadata": {}
        },
        {
            "cell_type": "code",
            "execution_count": 7,
            "source": [
                "bert_model = hub.KerasLayer(tfhub_handle_encoder)"
            ],
            "outputs": [],
            "metadata": {}
        },
        {
            "cell_type": "code",
            "execution_count": 8,
            "source": [
                "def build_classifier_model():\n",
                "  text_input = tf.keras.layers.Input(shape=(), dtype=tf.string, name='text')\n",
                "  preprocessing_layer = hub.KerasLayer(tfhub_handle_preprocess, name='preprocessing')\n",
                "  encoder_inputs = preprocessing_layer(text_input)\n",
                "  encoder = hub.KerasLayer(tfhub_handle_encoder, trainable=True, name='BERT_encoder')\n",
                "  outputs = encoder(encoder_inputs)\n",
                "  net = outputs['pooled_output']\n",
                "  net = tf.keras.layers.Dropout(0.3)(net)\n",
                "  net = tf.keras.layers.Dense(1, activation=None, name='classifier')(net)\n",
                "  return tf.keras.Model(text_input, net)"
            ],
            "outputs": [],
            "metadata": {}
        },
        {
            "cell_type": "code",
            "execution_count": 9,
            "source": [
                "classifier_model = build_classifier_model()\n",
                "classifier_model.summary()"
            ],
            "outputs": [
                {
                    "output_type": "stream",
                    "name": "stdout",
                    "text": [
                        "Model: \"model\"\n",
                        "__________________________________________________________________________________________________\n",
                        "Layer (type)                    Output Shape         Param #     Connected to                     \n",
                        "==================================================================================================\n",
                        "text (InputLayer)               [(None,)]            0                                            \n",
                        "__________________________________________________________________________________________________\n",
                        "preprocessing (KerasLayer)      {'input_word_ids': ( 0           text[0][0]                       \n",
                        "__________________________________________________________________________________________________\n",
                        "BERT_encoder (KerasLayer)       {'default': (None, 5 28763649    preprocessing[0][0]              \n",
                        "                                                                 preprocessing[0][1]              \n",
                        "                                                                 preprocessing[0][2]              \n",
                        "__________________________________________________________________________________________________\n",
                        "dropout (Dropout)               (None, 512)          0           BERT_encoder[0][5]               \n",
                        "__________________________________________________________________________________________________\n",
                        "classifier (Dense)              (None, 1)            513         dropout[0][0]                    \n",
                        "==================================================================================================\n",
                        "Total params: 28,764,162\n",
                        "Trainable params: 28,764,161\n",
                        "Non-trainable params: 1\n",
                        "__________________________________________________________________________________________________\n"
                    ]
                }
            ],
            "metadata": {}
        },
        {
            "cell_type": "code",
            "execution_count": 10,
            "source": [
                "loss = tf.keras.losses.BinaryCrossentropy(from_logits=True)\n",
                "metrics = [\n",
                "    tf.metrics.BinaryAccuracy(), \n",
                "    logit_metrics.F1Score(from_logits=True),\n",
                "    tf.metrics.AUC(from_logits=True)\n",
                "]"
            ],
            "outputs": [],
            "metadata": {}
        },
        {
            "cell_type": "code",
            "execution_count": 11,
            "source": [
                "epochs = 5\n",
                "steps_per_epoch = len(x_train) // batch_size\n",
                "num_train_steps = steps_per_epoch * epochs\n",
                "num_warmup_steps = int(0.1*num_train_steps)\n",
                "\n",
                "init_lr = 3e-5\n",
                "optimizer = optimization.create_optimizer(init_lr=init_lr,\n",
                "                                          num_train_steps=num_train_steps,\n",
                "                                          num_warmup_steps=num_warmup_steps,\n",
                "                                          optimizer_type='adamw')\n"
            ],
            "outputs": [],
            "metadata": {}
        },
        {
            "cell_type": "code",
            "execution_count": 12,
            "source": [
                "classifier_model.compile(optimizer=optimizer,\n",
                "                         loss=loss,\n",
                "                         metrics=metrics)\n"
            ],
            "outputs": [],
            "metadata": {}
        },
        {
            "cell_type": "code",
            "execution_count": 13,
            "source": [
                "history = classifier_model.fit(\n",
                "    x=train,\n",
                "    steps_per_epoch= steps_per_epoch,\n",
                "    validation_data=val,\n",
                "    validation_steps= len(x_val) // batch_size,\n",
                "    epochs=epochs\n",
                "    )\n"
            ],
            "outputs": [
                {
                    "output_type": "stream",
                    "name": "stdout",
                    "text": [
                        "Epoch 1/5\n",
                        "12635/12635 [==============================] - ETA: 0s - loss: 0.5631 - binary_accuracy: 0.6948 - f1: 0.6950 - auc: 0.7781"
                    ]
                },
                {
                    "output_type": "stream",
                    "name": "stderr",
                    "text": [
                        "/usr/local/lib/python3.6/dist-packages/tensorflow/python/keras/metrics.py:257: UserWarning: Metric F1Score implements a `reset_states()` method; rename it to `reset_state()` (without the final \"s\"). The name `reset_states()` has been deprecated to improve API consistency.\n",
                        "  'consistency.' % (self.__class__.__name__,))\n"
                    ]
                },
                {
                    "output_type": "stream",
                    "name": "stdout",
                    "text": [
                        "12635/12635 [==============================] - 2837s 224ms/step - loss: 0.5631 - binary_accuracy: 0.6948 - f1: 0.6950 - auc: 0.7781 - val_loss: 0.5083 - val_binary_accuracy: 0.7482 - val_f1: 0.7494 - val_auc: 0.8311\n",
                        "Epoch 2/5\n",
                        "12635/12635 [==============================] - 2949s 233ms/step - loss: 0.4911 - binary_accuracy: 0.7494 - f1: 0.7512 - auc: 0.8401 - val_loss: 0.4920 - val_binary_accuracy: 0.7599 - val_f1: 0.7611 - val_auc: 0.8433\n",
                        "Epoch 3/5\n",
                        "12635/12635 [==============================] - 2821s 223ms/step - loss: 0.4579 - binary_accuracy: 0.7726 - f1: 0.7757 - auc: 0.8641 - val_loss: 0.4893 - val_binary_accuracy: 0.7624 - val_f1: 0.7632 - val_auc: 0.8466\n",
                        "Epoch 4/5\n",
                        "12635/12635 [==============================] - 2822s 223ms/step - loss: 0.4295 - binary_accuracy: 0.7909 - f1: 0.7957 - auc: 0.8823 - val_loss: 0.5056 - val_binary_accuracy: 0.7655 - val_f1: 0.7675 - val_auc: 0.8466\n",
                        "Epoch 5/5\n",
                        "12635/12635 [==============================] - 2780s 220ms/step - loss: 0.4074 - binary_accuracy: 0.8054 - f1: 0.8101 - auc: 0.8952 - val_loss: 0.5125 - val_binary_accuracy: 0.7648 - val_f1: 0.7646 - val_auc: 0.8458\n"
                    ]
                }
            ],
            "metadata": {}
        },
        {
            "cell_type": "code",
            "execution_count": 14,
            "source": [
                "classifier_model.save('../saved_model/BERT_only_comments.tf')"
            ],
            "outputs": [
                {
                    "output_type": "stream",
                    "name": "stderr",
                    "text": [
                        "WARNING:absl:Found untraced functions such as restored_function_body, restored_function_body, restored_function_body, restored_function_body, restored_function_body while saving (showing 5 of 310). These functions will not be directly callable after loading.\n"
                    ]
                },
                {
                    "output_type": "stream",
                    "name": "stdout",
                    "text": [
                        "INFO:tensorflow:Assets written to: ../saved_model/BERT_only_comments.tf/assets\n"
                    ]
                },
                {
                    "output_type": "stream",
                    "name": "stderr",
                    "text": [
                        "INFO:tensorflow:Assets written to: ../saved_model/BERT_only_comments.tf/assets\n"
                    ]
                }
            ],
            "metadata": {}
        },
        {
            "cell_type": "code",
            "execution_count": 15,
            "source": [
                "history_dict = history.history\n",
                "print(history_dict.keys())\n",
                "\n",
                "acc = history_dict['binary_accuracy']\n",
                "val_acc = history_dict['val_binary_accuracy']\n",
                "loss = history_dict['loss']\n",
                "val_loss = history_dict['val_loss']\n",
                "\n",
                "epochs = range(1, len(acc) + 1)\n",
                "fig = plt.figure(figsize=(10, 6))\n",
                "fig.tight_layout()\n",
                "\n",
                "plt.subplot(2, 1, 1)\n",
                "# \"bo\" is for \"blue dot\"\n",
                "plt.plot(epochs, loss, 'r', label='Training loss')\n",
                "# b is for \"solid blue line\"\n",
                "plt.plot(epochs, val_loss, 'b', label='Validation loss')\n",
                "plt.title('Training and validation loss')\n",
                "# plt.xlabel('Epochs')\n",
                "plt.ylabel('Loss')\n",
                "plt.legend()\n",
                "\n",
                "plt.subplot(2, 1, 2)\n",
                "plt.plot(epochs, acc, 'r', label='Training acc')\n",
                "plt.plot(epochs, val_acc, 'b', label='Validation acc')\n",
                "plt.title('Training and validation accuracy')\n",
                "plt.xlabel('Epochs')\n",
                "plt.ylabel('Accuracy')\n",
                "plt.legend(loc='lower right')\n"
            ],
            "outputs": [
                {
                    "output_type": "stream",
                    "name": "stdout",
                    "text": [
                        "dict_keys(['loss', 'binary_accuracy', 'f1', 'auc', 'val_loss', 'val_binary_accuracy', 'val_f1', 'val_auc'])\n"
                    ]
                },
                {
                    "output_type": "execute_result",
                    "data": {
                        "text/plain": [
                            "<matplotlib.legend.Legend at 0x7fd514d97080>"
                        ]
                    },
                    "metadata": {},
                    "execution_count": 15
                },
                {
                    "output_type": "display_data",
                    "data": {
                        "text/plain": [
                            "<Figure size 720x432 with 2 Axes>"
                        ],
                        "image/png": "[encoded data removed]"
                    },
                    "metadata": {
                        "needs_background": "light"
                    }
                }
            ],
            "metadata": {}
        }
    ],
    "metadata": {
        "orig_nbformat": 4,
        "language_info": {
            "name": "python"
        }
    },
    "nbformat": 4,
    "nbformat_minor": 2
}